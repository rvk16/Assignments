{
 "cells": [
  {
   "cell_type": "code",
   "execution_count": null,
   "metadata": {},
   "outputs": [],
   "source": [
    "1. Why are functions advantageous to have in your programs?\n",
    "Ans: We don’t have to write the same code again and again we can just create a function and \n",
    "    by calling it we can use it whenever we want.\n"
   ]
  },
  {
   "cell_type": "code",
   "execution_count": null,
   "metadata": {},
   "outputs": [],
   "source": [
    "2. When does the code in a function execute: when the function is defined or when the function is called?\n",
    "Ans: it will execute only when you call it.\n"
   ]
  },
  {
   "cell_type": "code",
   "execution_count": null,
   "metadata": {},
   "outputs": [],
   "source": [
    "3. What statement creates a function?\n",
    "Ans. \n",
    "def function_name():\n",
    "    pass\n",
    "Above code will be able to create function.\n"
   ]
  },
  {
   "cell_type": "code",
   "execution_count": null,
   "metadata": {},
   "outputs": [],
   "source": [
    "4. What is the difference between a function and a function call?\n",
    "Ans. We can create a function when we run only that particular function it will check syntax only.\n",
    "At the time of function call it will be execute and return as per the requirement.\n"
   ]
  },
  {
   "cell_type": "code",
   "execution_count": null,
   "metadata": {},
   "outputs": [],
   "source": [
    "5. How many global scopes are there in a Python program? How many local scopes?\n",
    "Ans. \n",
    "X = 99                # X is global\n",
    "          \n",
    "def func(Y):          # Y and Z assigned in function it means they are locals\n",
    "    # local scope\n",
    "    Z = X + Y        \n",
    "    return Z\n",
    "\n",
    "func(1)     "
   ]
  },
  {
   "cell_type": "code",
   "execution_count": null,
   "metadata": {},
   "outputs": [],
   "source": [
    "6. What happens to variables in a local scope when the function call returns?\n",
    "Ans. We can store that returned value in any variable and use whenever we want as per the requirement.\n",
    "And the local variable which are there in function are of no use we cannot use them outside of a \n",
    "particular function it is undefined outside of that function.\n"
   ]
  },
  {
   "cell_type": "code",
   "execution_count": null,
   "metadata": {},
   "outputs": [],
   "source": [
    "7. What is a return value? Can a return value be part of an expression?\n",
    "Ans. Return value can be anything based on what you return in function it can be int ,str,list anything. Yes, return value can be part of expression.\n"
   ]
  },
  {
   "cell_type": "code",
   "execution_count": null,
   "metadata": {},
   "outputs": [],
   "source": [
    "8. If a function does not have a return statement, what is the return value of a call to that function?\n",
    "Ans: None\n"
   ]
  },
  {
   "cell_type": "code",
   "execution_count": null,
   "metadata": {},
   "outputs": [],
   "source": [
    "9. How can you force a variable in a function to refer to the global variable?\n",
    "Ans. We can use a variable of local scope by using gloabal keyword\n"
   ]
  },
  {
   "cell_type": "code",
   "execution_count": null,
   "metadata": {},
   "outputs": [],
   "source": [
    "10. What is the data type of None?\n",
    "Ans. None basically when nothing is return or it used to define null values\n"
   ]
  },
  {
   "cell_type": "code",
   "execution_count": null,
   "metadata": {},
   "outputs": [],
   "source": [
    "11. What does the import areallyourpetsnamederic statement do?\n",
    "Ans. First python will check is there any module there or not named areallyourpetsnamederic.\n",
    "if it is there it will simply load all the function inside it and we can use that functions whenever we want.\n",
    "if it not there it will throw an error like ModuleNotFoundError.\n"
   ]
  },
  {
   "cell_type": "code",
   "execution_count": null,
   "metadata": {},
   "outputs": [],
   "source": [
    "12. If you had a function named bacon() in a module named spam, how would you call it after importing spam?\n",
    "Ans. Import spam as sp\n",
    "sb.bacon()\n"
   ]
  },
  {
   "cell_type": "code",
   "execution_count": null,
   "metadata": {},
   "outputs": [],
   "source": [
    "13. How can you prevent a program from crashing when it gets an error?\n",
    "Ans. By using exception handling.\n"
   ]
  },
  {
   "cell_type": "code",
   "execution_count": null,
   "metadata": {},
   "outputs": [],
   "source": [
    "14. What goes in the try clause? What goes in the except clause?\n",
    "Ans. In try catch the code which is going to run and in except if try block fails/error only then it will be going to execute except block .\n"
   ]
  }
 ],
 "metadata": {
  "kernelspec": {
   "display_name": "Python 3",
   "language": "python",
   "name": "python3"
  },
  "language_info": {
   "codemirror_mode": {
    "name": "ipython",
    "version": 3
   },
   "file_extension": ".py",
   "mimetype": "text/x-python",
   "name": "python",
   "nbconvert_exporter": "python",
   "pygments_lexer": "ipython3",
   "version": "3.8.5"
  }
 },
 "nbformat": 4,
 "nbformat_minor": 4
}
