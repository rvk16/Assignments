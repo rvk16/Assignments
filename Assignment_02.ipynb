{
 "cells": [
  {
   "cell_type": "markdown",
   "metadata": {},
   "source": [
    "1. What are the two values of the Boolean data type? How do you write them?\n",
    "Ans. True,False are the two values of Boolean data type.\n"
   ]
  },
  {
   "cell_type": "code",
   "execution_count": null,
   "metadata": {},
   "outputs": [],
   "source": [
    "2. What are the three Boolean operators?\n",
    "Ans. AND,OR,NOT\n"
   ]
  },
  {
   "cell_type": "code",
   "execution_count": null,
   "metadata": {},
   "outputs": [],
   "source": [
    "3. Write out the truth tables of each Boolean operator (that is, every possible combination of Boolean values for the operator and what they evaluate to).\n",
    "Ans. \n",
    "AND Operator\n",
    "\n",
    "True and True = True\n",
    "True and False = False\n",
    "False and True = False\n",
    "False and False = False\n",
    "\n",
    "OR Operator\n",
    "True or True = True\n",
    "True or False = True\n",
    "False or True = True\n",
    "False or False = False\n",
    "\n",
    "NOT Operator\n",
    "not(True) = False\n",
    "not(False) = True\n"
   ]
  },
  {
   "cell_type": "code",
   "execution_count": null,
   "metadata": {},
   "outputs": [],
   "source": [
    "4. What do the following expressions evaluate to?\n",
    "(5 > 4) and (3 == 5)   \t\t\t\t-- False\n",
    "not (5 > 4)\t\t\t\t\t-- False\t\t\n",
    "(5 > 4) or (3 == 5)\t\t\t\t-- True\n",
    "not ((5 > 4) or (3 == 5))\t\t\t   \t-- False\n",
    "(True and True) and (True == False)\t-- False\n",
    "(not False) or (not True)\t\t\t-- True\n"
   ]
  },
  {
   "cell_type": "code",
   "execution_count": null,
   "metadata": {},
   "outputs": [],
   "source": [
    "5. What are the six comparison operators?\n",
    "Ans.  == , != or <> , > , < , >= , <= \n"
   ]
  },
  {
   "cell_type": "code",
   "execution_count": null,
   "metadata": {},
   "outputs": [],
   "source": [
    "6. What is the difference between the equal to operator and the assignment operator?\n",
    "Ans. Equal operator compares the two values and is denoted by ( == ).\n",
    "Assignment operator is used to assigns values from right side operands to left side operand and is denoted by ( = ).\n"
   ]
  },
  {
   "cell_type": "code",
   "execution_count": null,
   "metadata": {},
   "outputs": [],
   "source": [
    "7. Explain what a condition is and where you would use one.\n",
    "Ans. A condition is a constraint based on which there will be two outcomes True or False .\n",
    "We can use then while using loops so that based on required condition the loop will run / stop.\n",
    "In case of a condition is true then loop will execute otherwise it wont.\n"
   ]
  },
  {
   "cell_type": "code",
   "execution_count": null,
   "metadata": {},
   "outputs": [],
   "source": [
    "8. Identify the three blocks in this code:\n",
    "\n",
    "spam = 0\n",
    "if spam == 10:\n",
    "    print('eggs')\n",
    "    if spam > 5:\n",
    "        print('bacon')\n",
    "    else:\n",
    "        print('ham')\n",
    "    print('spam')\n",
    "print('spam')\n",
    "Ans.  First block is if spam =10 then the second block is if spam > 5 and  else part third block of code is print(‘spam’) \n",
    "Based on above code the output should be ‘spam’\n"
   ]
  },
  {
   "cell_type": "code",
   "execution_count": null,
   "metadata": {},
   "outputs": [],
   "source": [
    "9. Write code that prints Hello if 1 is stored in spam, prints Howdy if 2 is stored in spam, and prints Greetings! if anything else is stored in spam.\n",
    "Ans:\n",
    "if spam ==1:\n",
    "    print(\"Hello\")\n",
    "elif spam==2:\n",
    "    print(\"Howdy\")\n",
    "else:\n",
    "    print(\"Greetings!\")\n"
   ]
  },
  {
   "cell_type": "code",
   "execution_count": null,
   "metadata": {},
   "outputs": [],
   "source": [
    "10. What keys can you press if your program is stuck in an infinite loop?\n",
    "Ans: Control + C  in unix , Restart Jupyter in case of infinite loop in jupyter notebook\n"
   ]
  },
  {
   "cell_type": "code",
   "execution_count": null,
   "metadata": {},
   "outputs": [],
   "source": [
    "11. What is the difference between break and continue?\n",
    "Ans: Break will take you out of the loop Is condition matches and continue will pass the control straight to loop without executing the code in that particular block.\n"
   ]
  },
  {
   "cell_type": "code",
   "execution_count": null,
   "metadata": {},
   "outputs": [],
   "source": [
    "12. What is the difference between range(10), range(0, 10), and range(0, 10, 1) in a for loop?\n",
    "Ans: There is no difference all are same. The only difference is in writing in range(10) upperbound is mentioned so basically by default lower bound will be 0. In case if range(0,10) lower and upperbound are present and in case of range(0,10,1) step size is mentioned.\n"
   ]
  },
  {
   "cell_type": "code",
   "execution_count": null,
   "metadata": {},
   "outputs": [],
   "source": [
    "13. Write a short program that prints the numbers 1 to 10 using a for loop. Then write an equivalent program that prints the numbers 1 to 10 using a while loop.\n",
    "Ans:\n",
    "for i in range(1,11):\n",
    "    print(i)\n",
    "\n",
    "i=1\n",
    "\n",
    "while i < 11:\n",
    "    print(i)\n",
    "    i=i+1\n"
   ]
  },
  {
   "cell_type": "code",
   "execution_count": null,
   "metadata": {},
   "outputs": [],
   "source": [
    "14. If you had a function named bacon() inside a module named spam, how would you call it after importing spam?\n",
    "Ans: \n",
    "Import spam as sp\n",
    "sp.bacon() \n"
   ]
  }
 ],
 "metadata": {
  "kernelspec": {
   "display_name": "Python 3",
   "language": "python",
   "name": "python3"
  },
  "language_info": {
   "codemirror_mode": {
    "name": "ipython",
    "version": 3
   },
   "file_extension": ".py",
   "mimetype": "text/x-python",
   "name": "python",
   "nbconvert_exporter": "python",
   "pygments_lexer": "ipython3",
   "version": "3.8.5"
  }
 },
 "nbformat": 4,
 "nbformat_minor": 4
}
