{
 "cells": [
  {
   "cell_type": "code",
   "execution_count": null,
   "metadata": {},
   "outputs": [],
   "source": [
    "1. What is []?\n",
    "Ans: it denotes the list. We can create a list using [].\n"
   ]
  },
  {
   "cell_type": "code",
   "execution_count": null,
   "metadata": {},
   "outputs": [],
   "source": [
    "2. How would you assign the value 'hello' as the third value in a list stored in a variable named spam? (Assume spam contains [2, 4, 6, 8, 10].)\n",
    "Ans. Spam[3]= 'hello'\n"
   ]
  },
  {
   "cell_type": "code",
   "execution_count": null,
   "metadata": {},
   "outputs": [],
   "source": [
    "For the following three questions, let’s say spam contains the list ['a', 'b', 'c', 'd'].\n",
    "\n",
    "3. What does spam[int(int('3' * 2) // 11)] evaluate to?\n",
    "Ans. 3\n",
    "\n",
    "4. What does spam[-1] evaluate to?\n",
    "Ans. 'd'\n",
    "\n",
    "5. What does spam[:2] evaluate to?\n",
    "Ans. ['a', 'b']\n",
    "\n"
   ]
  },
  {
   "cell_type": "code",
   "execution_count": null,
   "metadata": {},
   "outputs": [],
   "source": [
    "For the following three questions, let’s say bacon contains the list [3.14, 'cat', 11, 'cat', True].\n",
    "\n",
    "6. What does bacon.index('cat') evaluate to?\n",
    "Ans. 1\n",
    "\n",
    "7. What does bacon.append(99) make the list value in bacon look like?\n",
    "Ans. [3.14, 'cat', 11, 'cat', True, 99]\n",
    "\n",
    "8. What does bacon.remove('cat') make the list value in bacon look like?\n",
    "Ans. [3.14, 11, 'cat', True, 99]\n"
   ]
  },
  {
   "cell_type": "code",
   "execution_count": null,
   "metadata": {},
   "outputs": [],
   "source": [
    "9. What are the operators for list concatenation and list replication?\n",
    "Ans. List concatenation can be done by + operator and replication can be create by * operator\n"
   ]
  },
  {
   "cell_type": "code",
   "execution_count": null,
   "metadata": {},
   "outputs": [],
   "source": [
    "10. What is the difference between the append() and insert() list methods?\n",
    "Ans. Append will insert element in list at end and insert will take two parameter one is index at which we want to insert element and the element which we want to insert.\n"
   ]
  },
  {
   "cell_type": "code",
   "execution_count": null,
   "metadata": {},
   "outputs": [],
   "source": [
    "11. What are two ways to remove values from a list?\n",
    "Ans. 1. By remove () function 2. By using pop() function\n"
   ]
  },
  {
   "cell_type": "code",
   "execution_count": null,
   "metadata": {},
   "outputs": [],
   "source": [
    "12. Name a few ways that list values are similar to string values.\n",
    "Ans. Both list values and string values are iterable we can convert them to interator .\n"
   ]
  },
  {
   "cell_type": "code",
   "execution_count": null,
   "metadata": {},
   "outputs": [],
   "source": [
    "13. What is the difference between lists and tuples?\n",
    "Ans List is mutable and tuples are imutable\n"
   ]
  },
  {
   "cell_type": "code",
   "execution_count": null,
   "metadata": {},
   "outputs": [],
   "source": [
    "14. How do you type the tuple value that has just the integer value 42 in it?\n",
    "Ans. t = tuple('42') we can also store like t=(42) but the type of this will be int.\n"
   ]
  },
  {
   "cell_type": "code",
   "execution_count": null,
   "metadata": {},
   "outputs": [],
   "source": [
    "15. How can you get the tuple form of a list value? How can you get the list form of a tuple value?\n",
    "Ans. T = ([21,32,1,4]) and L=[(1,2,3,4)]. We can convert any list to tuple just by using tuple() and touple to list using list() .\n"
   ]
  },
  {
   "cell_type": "code",
   "execution_count": null,
   "metadata": {},
   "outputs": [],
   "source": [
    "16. Variables that “contain” list values don’t actually contain lists directly. What do they contain instead?\n",
    "Ans. Those variable are nothing but the list objects.\n"
   ]
  },
  {
   "cell_type": "code",
   "execution_count": null,
   "metadata": {},
   "outputs": [],
   "source": [
    "17. What is the difference between copy.copy() and copy.deepcopy()?\n",
    "Ans. Both are using the same object but both are referring to different functions.\n"
   ]
  }
 ],
 "metadata": {
  "kernelspec": {
   "display_name": "Python 3",
   "language": "python",
   "name": "python3"
  },
  "language_info": {
   "codemirror_mode": {
    "name": "ipython",
    "version": 3
   },
   "file_extension": ".py",
   "mimetype": "text/x-python",
   "name": "python",
   "nbconvert_exporter": "python",
   "pygments_lexer": "ipython3",
   "version": "3.8.5"
  }
 },
 "nbformat": 4,
 "nbformat_minor": 4
}
