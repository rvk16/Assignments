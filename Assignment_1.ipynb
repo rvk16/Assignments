{
 "cells": [
  {
   "cell_type": "code",
   "execution_count": null,
   "metadata": {},
   "outputs": [],
   "source": [
    "1. What are the differences between operators and values in the following?\n",
    "\n",
    "*\n",
    "'hello'\n",
    "-87.8\n",
    "-\n",
    "/\n",
    "+\n",
    "6\n",
    "\n",
    "Answer : * , - , / , + These are the arithmetic operator which is used to perform the arithmetic operation between\n",
    "         two different values like integer (6) , string ('hello'), float (-87.8) . \n",
    "         We cannot perform arithmetic operation between two different type of values. The values must be of same type            or if the type is different then we need to do typecasting usnig str(),int(),float() method.\n",
    "         \n",
    "         "
   ]
  },
  {
   "cell_type": "code",
   "execution_count": null,
   "metadata": {},
   "outputs": [],
   "source": [
    "2. What is the difference between string and variable?\n",
    "spam\n",
    "'spam'\n",
    "\n",
    "Answer : String is nothing but the value or type of information which we can store using variable. \n",
    "         Also, string is mainly enclosed with \" \".\n",
    "         We can use variable to store different type of values for eg. integer,string,float etc.\n",
    "         for each different values different memory is allocated. Variable can be defined by certain set of rules.\n",
    "         \n",
    "         "
   ]
  },
  {
   "cell_type": "code",
   "execution_count": null,
   "metadata": {},
   "outputs": [],
   "source": [
    "3. Describe three different data forms.\n",
    "\n",
    "Answer: Integer - 234 ,\n",
    "        String  - \"i am string\" ,\n",
    "        Float - 12.6 ,\n",
    "        Complex - 4+5j .\n",
    "\n"
   ]
  },
  {
   "cell_type": "code",
   "execution_count": null,
   "metadata": {},
   "outputs": [],
   "source": [
    "4. What makes up an expression? What are the functions of all expressions?\n",
    "\n",
    "Answer : An expression is made up of identifiers and operators for eg 2 + 3. expression always represent the value unlike statement.\n",
    "    Expression is always need to evaluate.\n",
    "    "
   ]
  },
  {
   "cell_type": "code",
   "execution_count": null,
   "metadata": {},
   "outputs": [],
   "source": [
    "5. In this chapter, assignment statements such as spam = 10 were added. What's the\n",
    "difference between a declaration and an expression?\n",
    "\n",
    "Answer: In case of declaration, in python you dont need to declaration of variable it is handled by python at runtime.\n",
    "in case of expression is needs to be evaluted based on the values present inside it.\n",
    "Basically, variable can be declared before and expression can you used to evalute the variable with help of operators"
   ]
  },
  {
   "cell_type": "code",
   "execution_count": null,
   "metadata": {},
   "outputs": [],
   "source": [
    "6. After running the following code, what does the variable bacon contain?\n",
    "bacon = 22\n",
    "bacon + 1\n",
    "\n",
    "Answer: bacaon contains 22. Value will change in case of assignment for eg : bacon =bacon +1."
   ]
  },
  {
   "cell_type": "code",
   "execution_count": null,
   "metadata": {},
   "outputs": [],
   "source": [
    "7. What should the values of the following two terms be?\n",
    "\n",
    "'spam' + 'spamspam'\n",
    "'spam' * 3\n",
    "\n",
    "Answer: 1. 'spamspamspam'\n",
    "        2. 'spamspamspam'"
   ]
  },
  {
   "cell_type": "code",
   "execution_count": null,
   "metadata": {},
   "outputs": [],
   "source": [
    "8. Why is it that eggs is a true variable name but 100 is not?\n",
    "\n",
    "Answer: There are certain rules to define a veriable like it should not start with integer and \n",
    "    it should not start with special characters except '_'. Also, variable can be start with any alphabets\n",
    "    that is why eggs is variable and 100 is not."
   ]
  },
  {
   "cell_type": "code",
   "execution_count": null,
   "metadata": {},
   "outputs": [],
   "source": [
    "9. Which of the following three functions may be used to convert a value to an integer, a\n",
    "floating-point number, or a string?\n",
    "\n",
    "Answer: int(),str(),float()."
   ]
  },
  {
   "cell_type": "code",
   "execution_count": null,
   "metadata": {},
   "outputs": [],
   "source": [
    "10. What is the error caused by this expression? What would you do about it?\n",
    "\n",
    "'I have eaten' + 99 + 'burritos'\n",
    "\n",
    "Answer : TypeError will caused by above expression we need to type case it using str(). \n",
    "    As 'I have eaten' + str(99) + 'burritos'."
   ]
  }
 ],
 "metadata": {
  "kernelspec": {
   "display_name": "Python 3",
   "language": "python",
   "name": "python3"
  },
  "language_info": {
   "codemirror_mode": {
    "name": "ipython",
    "version": 3
   },
   "file_extension": ".py",
   "mimetype": "text/x-python",
   "name": "python",
   "nbconvert_exporter": "python",
   "pygments_lexer": "ipython3",
   "version": "3.8.5"
  }
 },
 "nbformat": 4,
 "nbformat_minor": 4
}
